{
 "cells": [
  {
   "cell_type": "markdown",
   "id": "7674372a",
   "metadata": {},
   "source": [
    "## Using selenium and beautifulSoup"
   ]
  },
  {
   "cell_type": "code",
   "execution_count": 3,
   "id": "3f4b94e2",
   "metadata": {},
   "outputs": [],
   "source": [
    "from selenium import webdriver\n",
    "from bs4 import BeautifulSoup\n",
    "import time\n",
    "from selenium.webdriver.common.by import By\n",
    "\n",
    "# Creating a webdriver instance\n",
    "driver = webdriver.Chrome()\n",
    "# This instance will be used to log into LinkedIn\n",
    "\n",
    "# Opening linkedIn's login page\n",
    "driver.get(\"https://linkedin.com/uas/login\")\n",
    "\n",
    "# waiting for the page to load\n",
    "time.sleep(5)\n",
    "\n",
    "# entering username\n",
    "username = driver.find_element(By.ID, \"username\")\n",
    "\n",
    "# In case of an error, try changing the element\n",
    "# tag used here.\n",
    "\n",
    "# Enter Your Email Address\n",
    "username.send_keys(\"lidang@uchicago.edu\")\n",
    "\n",
    "# entering password\n",
    "pword = driver.find_element(By.ID, \"password\")\n",
    "# In case of an error, try changing the element\n",
    "# tag used here.\n",
    "\n",
    "# Enter Your Password\n",
    "pword.send_keys(\"y7067L83\")\n",
    "\n",
    "# Clicking on the log in button\n",
    "# Format (syntax) of writing XPath -->\n",
    "# //tagname[@attribute='value']\n",
    "driver.find_element(By.XPATH, \"//button[@type='submit']\").click()\n",
    "# In case of an error, try changing the\n",
    "# XPath used here.\n"
   ]
  },
  {
   "cell_type": "markdown",
   "id": "2d06222c",
   "metadata": {},
   "source": [
    "### pip install selenium==4.0.0 and pip install linkedin_scraper\n",
    "see https://github.com/SeleniumHQ/selenium/blob/d6acda7c0254f9681574bf4078ff2001705bf940/py/CHANGES#L32 for explanation"
   ]
  },
  {
   "cell_type": "markdown",
   "id": "e7480563",
   "metadata": {},
   "source": [
    "## Using linkedin_scraper"
   ]
  },
  {
   "cell_type": "code",
   "execution_count": 44,
   "id": "65832fcc",
   "metadata": {},
   "outputs": [],
   "source": [
    "from linkedin_scraper import Person, actions\n",
    "from selenium import webdriver\n",
    "from selenium.webdriver.common.keys import Keys\n",
    "driver = webdriver.Chrome()\n",
    "email = \"lidang@uchicago.edu\"\n",
    "password = \"y7067L83\"\n",
    "actions.login(driver, email, password)\n",
    "driver.get('https://www.linkedin.com')"
   ]
  },
  {
   "cell_type": "code",
   "execution_count": 22,
   "id": "0858f199",
   "metadata": {},
   "outputs": [],
   "source": [
    "from selenium.webdriver.common.keys import Keys\n",
    "from selenium.webdriver.common.by import By\n",
    "import time\n",
    "import requests\n",
    "linkedin_urls = []"
   ]
  },
  {
   "cell_type": "code",
   "execution_count": 29,
   "id": "58063862",
   "metadata": {},
   "outputs": [],
   "source": [
    "driver.get('https://www.linkedin.com/in/lee-may-49303246/')"
   ]
  },
  {
   "cell_type": "code",
   "execution_count": 31,
   "id": "66f22833",
   "metadata": {
    "scrolled": false
   },
   "outputs": [],
   "source": [
    "source = BeautifulSoup(driver.page_source, \"html.parser\")\n",
    "\n",
    "profile = []\n",
    "info = source.find('div', class_='mt2 relative')\n",
    "name = info.find('h1', class_='text-heading-xlarge inline t-24 v-align-middle break-words').get_text().strip()\n",
    "profile.append(name)\n",
    "time.sleep(1)\n",
    "experiences = source.find_all('li', class_='artdeco-list__item pvs-list__item--line-separated pvs-list__item--one-column')\n",
    "for x in experiences[1:]:\n",
    "    alltext = x.getText().split('\\n')\n",
    "    startIdentifier = 0\n",
    "    for e in alltext:\n",
    "        if e == '' or e == ' ':\n",
    "            startIdentifier+=1\n",
    "        else:\n",
    "            break\n",
    "    if startIdentifier == 16:\n",
    "        # education\n",
    "        if 'university' in alltext[16].lower().split(' ') or 'college' in alltext[16].lower().split(' ') or 'ba' in alltext[16].lower().split(' ') or 'bs' in alltext[16].lower().split(' '):\n",
    "            profile.append(('education', alltext[16][:len(alltext[16])//2], alltext[20][:len(alltext[20])//2]))"
   ]
  },
  {
   "cell_type": "code",
   "execution_count": 32,
   "id": "b611a7af",
   "metadata": {},
   "outputs": [
    {
     "data": {
      "text/plain": [
       "['Lee May',\n",
       " 'Senior Analyst, Prospect Research at University of Chicago',\n",
       " ('education', 'University of Chicago', 'Full-time · 1 yr 11 mos'),\n",
       " ('education', 'University of Chicago', 'Master’s Degree, Social Sciences'),\n",
       " ('education', 'Michigan State University', 'Bachelor’s Degree, History')]"
      ]
     },
     "execution_count": 32,
     "metadata": {},
     "output_type": "execute_result"
    }
   ],
   "source": [
    "profile"
   ]
  },
  {
   "cell_type": "code",
   "execution_count": 5,
   "id": "5dab21b9",
   "metadata": {},
   "outputs": [],
   "source": [
    "linkedin_url= 'https://www.linkedin.com/in/lee-may-49303246/'"
   ]
  },
  {
   "cell_type": "code",
   "execution_count": 1,
   "id": "6883e7f6",
   "metadata": {},
   "outputs": [],
   "source": [
    "import pandas as pd\n",
    "\n",
    "df = pd.read_csv('MA graduate data.csv', encoding='utf-8')"
   ]
  },
  {
   "cell_type": "code",
   "execution_count": 2,
   "id": "df6804e5",
   "metadata": {},
   "outputs": [
    {
     "data": {
      "text/html": [
       "<div>\n",
       "<style scoped>\n",
       "    .dataframe tbody tr th:only-of-type {\n",
       "        vertical-align: middle;\n",
       "    }\n",
       "\n",
       "    .dataframe tbody tr th {\n",
       "        vertical-align: top;\n",
       "    }\n",
       "\n",
       "    .dataframe thead th {\n",
       "        text-align: right;\n",
       "    }\n",
       "</style>\n",
       "<table border=\"1\" class=\"dataframe\">\n",
       "  <thead>\n",
       "    <tr style=\"text-align: right;\">\n",
       "      <th></th>\n",
       "      <th>ID_UCID</th>\n",
       "      <th>f_name</th>\n",
       "      <th>l_name</th>\n",
       "      <th>Person::GENDER_Code</th>\n",
       "      <th>Person::BIRTH_Date</th>\n",
       "      <th>Person::CTZ_status</th>\n",
       "      <th>ACAD_cohort</th>\n",
       "      <th>DEPT_Code.AIS</th>\n",
       "      <th>Person::COLL_InstName</th>\n",
       "      <th>Person::COLL_Degr</th>\n",
       "      <th>MA_DegrQtr</th>\n",
       "      <th>MA_degrDate</th>\n",
       "    </tr>\n",
       "  </thead>\n",
       "  <tbody>\n",
       "    <tr>\n",
       "      <th>0</th>\n",
       "      <td>10916201</td>\n",
       "      <td>Katherine</td>\n",
       "      <td>Bukolt</td>\n",
       "      <td>F</td>\n",
       "      <td>05/27/1971</td>\n",
       "      <td>U.S. Citizen</td>\n",
       "      <td>2000</td>\n",
       "      <td>MESS - Middle Eastern Studies</td>\n",
       "      <td>University of Notre Dame</td>\n",
       "      <td>B.A.</td>\n",
       "      <td>2003/01</td>\n",
       "      <td>03/22/2003</td>\n",
       "    </tr>\n",
       "    <tr>\n",
       "      <th>1</th>\n",
       "      <td>10914988</td>\n",
       "      <td>Isaac</td>\n",
       "      <td>Greenspan</td>\n",
       "      <td>M</td>\n",
       "      <td>11/20/1979</td>\n",
       "      <td>U.S. Citizen</td>\n",
       "      <td>2000</td>\n",
       "      <td>EDUM - Education</td>\n",
       "      <td>New York University</td>\n",
       "      <td>B.A.</td>\n",
       "      <td>2001/02</td>\n",
       "      <td>06/09/2001</td>\n",
       "    </tr>\n",
       "    <tr>\n",
       "      <th>2</th>\n",
       "      <td>10891647</td>\n",
       "      <td>Carl</td>\n",
       "      <td>Malmstrom</td>\n",
       "      <td>M</td>\n",
       "      <td>12/28/1977</td>\n",
       "      <td>U.S. Citizen</td>\n",
       "      <td>2000</td>\n",
       "      <td>MAPS - MAPSS</td>\n",
       "      <td>University of Chicago</td>\n",
       "      <td>B.A.</td>\n",
       "      <td>2001/02</td>\n",
       "      <td>06/09/2001</td>\n",
       "    </tr>\n",
       "    <tr>\n",
       "      <th>3</th>\n",
       "      <td>10909591</td>\n",
       "      <td>Richard</td>\n",
       "      <td>Aaronson</td>\n",
       "      <td>M</td>\n",
       "      <td>12/27/1960</td>\n",
       "      <td>U.S. Citizen</td>\n",
       "      <td>2000</td>\n",
       "      <td>MAPS - MAPSS</td>\n",
       "      <td>University of Pennsylvania</td>\n",
       "      <td>B.S.</td>\n",
       "      <td>2002/01</td>\n",
       "      <td>03/16/2002</td>\n",
       "    </tr>\n",
       "    <tr>\n",
       "      <th>4</th>\n",
       "      <td>10916706</td>\n",
       "      <td>Haytham</td>\n",
       "      <td>Abu Zayd</td>\n",
       "      <td>M</td>\n",
       "      <td>08/22/1978</td>\n",
       "      <td>U.S. Citizen</td>\n",
       "      <td>2000</td>\n",
       "      <td>MAPS - MAPSS</td>\n",
       "      <td>McGill University</td>\n",
       "      <td>B.A.</td>\n",
       "      <td>2001/04</td>\n",
       "      <td>12/08/2001</td>\n",
       "    </tr>\n",
       "    <tr>\n",
       "      <th>5</th>\n",
       "      <td>10916243</td>\n",
       "      <td>Meshal</td>\n",
       "      <td>Al-Sabah</td>\n",
       "      <td>M</td>\n",
       "      <td>09/10/1971</td>\n",
       "      <td>non-resident alien</td>\n",
       "      <td>2000</td>\n",
       "      <td>INRE - International Relations</td>\n",
       "      <td>California State University, Northridge</td>\n",
       "      <td>B.A.</td>\n",
       "      <td>2001/02</td>\n",
       "      <td>06/09/2001</td>\n",
       "    </tr>\n",
       "    <tr>\n",
       "      <th>6</th>\n",
       "      <td>10916707</td>\n",
       "      <td>Diana</td>\n",
       "      <td>Almanza</td>\n",
       "      <td>F</td>\n",
       "      <td>10/04/1958</td>\n",
       "      <td>U.S. Citizen</td>\n",
       "      <td>2000</td>\n",
       "      <td>MAPS - MAPSS</td>\n",
       "      <td>Aurora University</td>\n",
       "      <td>B.A.</td>\n",
       "      <td>2001/03</td>\n",
       "      <td>08/25/2001</td>\n",
       "    </tr>\n",
       "    <tr>\n",
       "      <th>7</th>\n",
       "      <td>10916710</td>\n",
       "      <td>Eric</td>\n",
       "      <td>Anderson</td>\n",
       "      <td>M</td>\n",
       "      <td>06/19/1976</td>\n",
       "      <td>U.S. Citizen</td>\n",
       "      <td>2000</td>\n",
       "      <td>MAPS - MAPSS</td>\n",
       "      <td>Hillsdale College</td>\n",
       "      <td>B.A.</td>\n",
       "      <td>2001/04</td>\n",
       "      <td>12/08/2001</td>\n",
       "    </tr>\n",
       "    <tr>\n",
       "      <th>8</th>\n",
       "      <td>10916712</td>\n",
       "      <td>Esi</td>\n",
       "      <td>Ansah</td>\n",
       "      <td>F</td>\n",
       "      <td>10/24/1976</td>\n",
       "      <td>non-resident alien</td>\n",
       "      <td>2000</td>\n",
       "      <td>MAPS - MAPSS</td>\n",
       "      <td>Florida State University</td>\n",
       "      <td>B.A.</td>\n",
       "      <td>2002/01</td>\n",
       "      <td>03/16/2002</td>\n",
       "    </tr>\n",
       "    <tr>\n",
       "      <th>9</th>\n",
       "      <td>10916715</td>\n",
       "      <td>Paola</td>\n",
       "      <td>Babos</td>\n",
       "      <td>F</td>\n",
       "      <td>06/16/1976</td>\n",
       "      <td>non-resident alien</td>\n",
       "      <td>2000</td>\n",
       "      <td>INRE - International Relations</td>\n",
       "      <td>University of London, London School of Economi...</td>\n",
       "      <td>B.S.</td>\n",
       "      <td>2001/03</td>\n",
       "      <td>08/25/2001</td>\n",
       "    </tr>\n",
       "  </tbody>\n",
       "</table>\n",
       "</div>"
      ],
      "text/plain": [
       "    ID_UCID     f_name     l_name Person::GENDER_Code Person::BIRTH_Date  \\\n",
       "0  10916201  Katherine     Bukolt                   F         05/27/1971   \n",
       "1  10914988      Isaac  Greenspan                   M         11/20/1979   \n",
       "2  10891647       Carl  Malmstrom                   M         12/28/1977   \n",
       "3  10909591    Richard   Aaronson                   M         12/27/1960   \n",
       "4  10916706    Haytham   Abu Zayd                   M         08/22/1978   \n",
       "5  10916243     Meshal   Al-Sabah                   M         09/10/1971   \n",
       "6  10916707      Diana    Almanza                   F         10/04/1958   \n",
       "7  10916710       Eric   Anderson                   M         06/19/1976   \n",
       "8  10916712        Esi      Ansah                   F         10/24/1976   \n",
       "9  10916715      Paola      Babos                   F         06/16/1976   \n",
       "\n",
       "   Person::CTZ_status  ACAD_cohort                   DEPT_Code.AIS  \\\n",
       "0        U.S. Citizen         2000   MESS - Middle Eastern Studies   \n",
       "1        U.S. Citizen         2000                EDUM - Education   \n",
       "2        U.S. Citizen         2000                    MAPS - MAPSS   \n",
       "3        U.S. Citizen         2000                    MAPS - MAPSS   \n",
       "4        U.S. Citizen         2000                    MAPS - MAPSS   \n",
       "5  non-resident alien         2000  INRE - International Relations   \n",
       "6        U.S. Citizen         2000                    MAPS - MAPSS   \n",
       "7        U.S. Citizen         2000                    MAPS - MAPSS   \n",
       "8  non-resident alien         2000                    MAPS - MAPSS   \n",
       "9  non-resident alien         2000  INRE - International Relations   \n",
       "\n",
       "                               Person::COLL_InstName Person::COLL_Degr  \\\n",
       "0                           University of Notre Dame              B.A.   \n",
       "1                                New York University              B.A.   \n",
       "2                              University of Chicago              B.A.   \n",
       "3                         University of Pennsylvania              B.S.   \n",
       "4                                  McGill University              B.A.   \n",
       "5            California State University, Northridge              B.A.   \n",
       "6                                  Aurora University              B.A.   \n",
       "7                                  Hillsdale College              B.A.   \n",
       "8                           Florida State University              B.A.   \n",
       "9  University of London, London School of Economi...              B.S.   \n",
       "\n",
       "  MA_DegrQtr MA_degrDate  \n",
       "0    2003/01  03/22/2003  \n",
       "1    2001/02  06/09/2001  \n",
       "2    2001/02  06/09/2001  \n",
       "3    2002/01  03/16/2002  \n",
       "4    2001/04  12/08/2001  \n",
       "5    2001/02  06/09/2001  \n",
       "6    2001/03  08/25/2001  \n",
       "7    2001/04  12/08/2001  \n",
       "8    2002/01  03/16/2002  \n",
       "9    2001/03  08/25/2001  "
      ]
     },
     "execution_count": 2,
     "metadata": {},
     "output_type": "execute_result"
    }
   ],
   "source": [
    "sample = df.head(10)\n",
    "sample = sample.rename(columns={\"Person::NAME_First\": \"f_name\", \"Person::NAME_Last\": \"l_name\"})\n",
    "sample"
   ]
  },
  {
   "cell_type": "code",
   "execution_count": 45,
   "id": "e6a8fb75",
   "metadata": {},
   "outputs": [
    {
     "name": "stderr",
     "output_type": "stream",
     "text": [
      "/var/folders/cz/nryzzqkn1vj04zyc4g0tfstm0000gq/T/ipykernel_20891/1680471448.py:8: DeprecationWarning: find_element_by_* commands are deprecated. Please use find_element() instead\n",
      "  search_query = driver.find_element_by_name('q')\n",
      "/var/folders/cz/nryzzqkn1vj04zyc4g0tfstm0000gq/T/ipykernel_20891/1680471448.py:19: DeprecationWarning: find_elements_by_* commands are deprecated. Please use find_elements() instead\n",
      "  urls = driver.find_elements_by_class_name('yuRUbf')\n",
      "/Users/lidang/opt/anaconda3/lib/python3.9/site-packages/selenium/webdriver/remote/webelement.py:483: UserWarning: find_element_by_* commands are deprecated. Please use find_element() instead\n",
      "  warnings.warn(\"find_element_by_* commands are deprecated. Please use find_element() instead\")\n"
     ]
    }
   ],
   "source": [
    "from linkedin_scraper import Person, actions\n",
    "from selenium import webdriver\n",
    "from selenium.webdriver.common.keys import Keys\n",
    "driver = webdriver.Chrome()\n",
    "email = \"lidang@uchicago.edu\"\n",
    "password = \"y7067L83\"\n",
    "actions.login(driver, email, password)\n",
    "driver.get('https://www.linkedin.com')\n",
    "\n",
    "for row in sample.itertuples():\n",
    "    name_space = row.f_name + \" \" + row.l_name\n",
    "    name = row.f_name + row.l_name\n",
    "    \n",
    "    driver.get('https://www.google.com')\n",
    "\n",
    "    # locate search form by_name\n",
    "    search_query = driver.find_element_by_name('q')\n",
    "\n",
    "    # send_keys() to simulate the search text key strokes\n",
    "    search_query.send_keys(f'site:linkedin.com/in/ AND {name_space} AND \"University of Chicago\"')\n",
    "\n",
    "    # .send_keys() to simulate the return key \n",
    "    search_query.send_keys(Keys.RETURN)\n",
    "\n",
    "    driver.implicitly_wait(5) \n",
    "\n",
    "    try:\n",
    "        urls = driver.find_elements_by_class_name('yuRUbf')\n",
    "        urls = [url.find_element_by_css_selector('a').get_attribute('href') for url in urls]\n",
    "\n",
    "        linkedin_urls.append(urls[0])\n",
    "\n",
    "    except:\n",
    "        try:\n",
    "            search_query.send_keys(f'site:linkedin.com/in/ AND {name} AND \"University of Chicago\"')\n",
    "        except:\n",
    "            pass"
   ]
  },
  {
   "cell_type": "code",
   "execution_count": 80,
   "id": "aac6fd48",
   "metadata": {},
   "outputs": [
    {
     "data": {
      "text/plain": [
       "['https://www.linkedin.com/in/adamjaredapt',\n",
       " 'https://www.linkedin.com/in/carl-malmstrom-b051685',\n",
       " 'https://www.linkedin.com/in/rich-aaronson-973a9028',\n",
       " 'https://www.linkedin.com/in/habuzayd3122',\n",
       " 'https://www.linkedin.com/in/dianaalmanza',\n",
       " 'https://www.linkedin.com/in/eric-anderson-084194177',\n",
       " 'https://gh.linkedin.com/in/eansah',\n",
       " 'https://br.linkedin.com/in/paola-babos-3128863']"
      ]
     },
     "execution_count": 80,
     "metadata": {},
     "output_type": "execute_result"
    }
   ],
   "source": [
    "linkedin_urls"
   ]
  },
  {
   "cell_type": "markdown",
   "id": "66fe01a7",
   "metadata": {},
   "source": [
    "## Scrape About and Headline"
   ]
  },
  {
   "cell_type": "code",
   "execution_count": 162,
   "id": "69392214",
   "metadata": {},
   "outputs": [
    {
     "data": {
      "text/plain": [
       "'Strategic Marketing Leader'"
      ]
     },
     "execution_count": 162,
     "metadata": {},
     "output_type": "execute_result"
    }
   ],
   "source": [
    "from bs4 import BeautifulSoup\n",
    "# Now using beautiful soup\n",
    "src = driver.page_source\n",
    "soup = BeautifulSoup(src, 'lxml')\n",
    "url = linkedin_urls[0]\n",
    "\n",
    "intro = soup.find('div', {'class': 'pv-text-details__left-panel'})\n",
    "header = intro.find(\"div\", {'class': 'text-body-medium'})\n",
    "\n",
    "# this gives us the HTML of the tag in which the Company Name is present\n",
    "# Extracting the Company Name\n",
    "header = works_at_loc.get_text().strip()\n",
    "header"
   ]
  },
  {
   "cell_type": "code",
   "execution_count": 160,
   "id": "e902201e",
   "metadata": {},
   "outputs": [
    {
     "data": {
      "text/plain": [
       "'Mission-driven executive and change agent with successful track record of leadership in best-in-class organizations including Emerson and Danaher.  Excel at developing and executing strategy, leading companies to market orientation, creating innovative approaches for competitive advantage, and motivating and developing people.  Extensive experience globally and across diverse cultures.Key accomplishments:*  Danaher (Holo-Krome division): Developed strategic plan resulting in critical application niche position as part of turnaround, 0 to 17% operating margin in 9 months. *  Emerson (Skil Power Tool division): Led European division from engineering to market orientation through multi-country market analysis, brand positioning, and realignment of professional product line.*  Qinghai Nationalities University:  Led educational programs for Tibetan college students, developed student magazine, and established new library.'"
      ]
     },
     "execution_count": 160,
     "metadata": {},
     "output_type": "execute_result"
    }
   ],
   "source": [
    "about = soup.find('div', {'class': 'display-flex ph5 pv3'})\n",
    "about = about.find(\"span\", {'aria-hidden': 'true'})\n",
    "about = about.get_text().strip()\n",
    "about"
   ]
  },
  {
   "cell_type": "code",
   "execution_count": 7,
   "id": "7f96b6e5",
   "metadata": {},
   "outputs": [],
   "source": [
    "profile = {}"
   ]
  },
  {
   "cell_type": "code",
   "execution_count": 4,
   "id": "8c2b6a34",
   "metadata": {},
   "outputs": [],
   "source": [
    "from linkedin_scraper import Person, actions\n",
    "from selenium import webdriver\n",
    "from selenium.webdriver.common.keys import Keys\n",
    "driver = webdriver.Chrome()\n",
    "email = \"lidang@uchicago.edu\"\n",
    "password = \"y7067L83\"\n",
    "actions.login(driver, email, password)\n",
    "driver.get('https://www.linkedin.com')"
   ]
  },
  {
   "cell_type": "markdown",
   "id": "eb798b3b",
   "metadata": {},
   "source": [
    "## Combining crawling and scraping on small sample"
   ]
  },
  {
   "cell_type": "code",
   "execution_count": 9,
   "id": "680f42a7",
   "metadata": {
    "scrolled": false
   },
   "outputs": [
    {
     "name": "stderr",
     "output_type": "stream",
     "text": [
      "/var/folders/cz/nryzzqkn1vj04zyc4g0tfstm0000gq/T/ipykernel_37914/1979714333.py:10: DeprecationWarning: find_element_by_* commands are deprecated. Please use find_element() instead\n",
      "  search_query = driver.find_element_by_name('q')\n",
      "/var/folders/cz/nryzzqkn1vj04zyc4g0tfstm0000gq/T/ipykernel_37914/1979714333.py:21: DeprecationWarning: find_elements_by_* commands are deprecated. Please use find_elements() instead\n",
      "  urls = driver.find_elements_by_class_name('yuRUbf')\n"
     ]
    },
    {
     "ename": "NoSuchWindowException",
     "evalue": "Message: no such window: target window already closed\nfrom unknown error: web view not found\n  (Session info: chrome=106.0.5249.119)\nStacktrace:\n0   chromedriver                        0x0000000104832f44 chromedriver + 3813188\n1   chromedriver                        0x00000001047c4ae0 chromedriver + 3361504\n2   chromedriver                        0x00000001044c8c5c chromedriver + 232540\n3   chromedriver                        0x00000001044ab71c chromedriver + 112412\n4   chromedriver                        0x0000000104516ebc chromedriver + 552636\n5   chromedriver                        0x0000000104527638 chromedriver + 620088\n6   chromedriver                        0x00000001044ef358 chromedriver + 389976\n7   chromedriver                        0x00000001044f0284 chromedriver + 393860\n8   chromedriver                        0x0000000104806e18 chromedriver + 3632664\n9   chromedriver                        0x000000010480a97c chromedriver + 3647868\n10  chromedriver                        0x0000000104810b58 chromedriver + 3672920\n11  chromedriver                        0x000000010480b350 chromedriver + 3650384\n12  chromedriver                        0x00000001047e88dc chromedriver + 3508444\n13  chromedriver                        0x0000000104825914 chromedriver + 3758356\n14  chromedriver                        0x0000000104825a78 chromedriver + 3758712\n15  chromedriver                        0x00000001048396cc chromedriver + 3839692\n16  libsystem_pthread.dylib             0x00000001a556826c _pthread_start + 148\n17  libsystem_pthread.dylib             0x00000001a556308c thread_start + 8\n",
     "output_type": "error",
     "traceback": [
      "\u001b[0;31m---------------------------------------------------------------------------\u001b[0m",
      "\u001b[0;31mNoSuchWindowException\u001b[0m                     Traceback (most recent call last)",
      "\u001b[0;32m/var/folders/cz/nryzzqkn1vj04zyc4g0tfstm0000gq/T/ipykernel_37914/1979714333.py\u001b[0m in \u001b[0;36m<module>\u001b[0;34m\u001b[0m\n\u001b[1;32m      5\u001b[0m     \u001b[0mname\u001b[0m \u001b[0;34m=\u001b[0m \u001b[0mrow\u001b[0m\u001b[0;34m.\u001b[0m\u001b[0mf_name\u001b[0m \u001b[0;34m+\u001b[0m \u001b[0mrow\u001b[0m\u001b[0;34m.\u001b[0m\u001b[0ml_name\u001b[0m\u001b[0;34m\u001b[0m\u001b[0;34m\u001b[0m\u001b[0m\n\u001b[1;32m      6\u001b[0m \u001b[0;34m\u001b[0m\u001b[0m\n\u001b[0;32m----> 7\u001b[0;31m     \u001b[0mdriver\u001b[0m\u001b[0;34m.\u001b[0m\u001b[0mget\u001b[0m\u001b[0;34m(\u001b[0m\u001b[0;34m'https://www.google.com'\u001b[0m\u001b[0;34m)\u001b[0m\u001b[0;34m\u001b[0m\u001b[0;34m\u001b[0m\u001b[0m\n\u001b[0m\u001b[1;32m      8\u001b[0m \u001b[0;34m\u001b[0m\u001b[0m\n\u001b[1;32m      9\u001b[0m     \u001b[0;31m# locate search form by_name\u001b[0m\u001b[0;34m\u001b[0m\u001b[0;34m\u001b[0m\u001b[0m\n",
      "\u001b[0;32m~/opt/anaconda3/lib/python3.9/site-packages/selenium/webdriver/remote/webdriver.py\u001b[0m in \u001b[0;36mget\u001b[0;34m(self, url)\u001b[0m\n\u001b[1;32m    428\u001b[0m         \u001b[0mLoads\u001b[0m \u001b[0ma\u001b[0m \u001b[0mweb\u001b[0m \u001b[0mpage\u001b[0m \u001b[0;32min\u001b[0m \u001b[0mthe\u001b[0m \u001b[0mcurrent\u001b[0m \u001b[0mbrowser\u001b[0m \u001b[0msession\u001b[0m\u001b[0;34m.\u001b[0m\u001b[0;34m\u001b[0m\u001b[0;34m\u001b[0m\u001b[0m\n\u001b[1;32m    429\u001b[0m         \"\"\"\n\u001b[0;32m--> 430\u001b[0;31m         \u001b[0mself\u001b[0m\u001b[0;34m.\u001b[0m\u001b[0mexecute\u001b[0m\u001b[0;34m(\u001b[0m\u001b[0mCommand\u001b[0m\u001b[0;34m.\u001b[0m\u001b[0mGET\u001b[0m\u001b[0;34m,\u001b[0m \u001b[0;34m{\u001b[0m\u001b[0;34m'url'\u001b[0m\u001b[0;34m:\u001b[0m \u001b[0murl\u001b[0m\u001b[0;34m}\u001b[0m\u001b[0;34m)\u001b[0m\u001b[0;34m\u001b[0m\u001b[0;34m\u001b[0m\u001b[0m\n\u001b[0m\u001b[1;32m    431\u001b[0m \u001b[0;34m\u001b[0m\u001b[0m\n\u001b[1;32m    432\u001b[0m     \u001b[0;34m@\u001b[0m\u001b[0mproperty\u001b[0m\u001b[0;34m\u001b[0m\u001b[0;34m\u001b[0m\u001b[0m\n",
      "\u001b[0;32m~/opt/anaconda3/lib/python3.9/site-packages/selenium/webdriver/remote/webdriver.py\u001b[0m in \u001b[0;36mexecute\u001b[0;34m(self, driver_command, params)\u001b[0m\n\u001b[1;32m    416\u001b[0m         \u001b[0mresponse\u001b[0m \u001b[0;34m=\u001b[0m \u001b[0mself\u001b[0m\u001b[0;34m.\u001b[0m\u001b[0mcommand_executor\u001b[0m\u001b[0;34m.\u001b[0m\u001b[0mexecute\u001b[0m\u001b[0;34m(\u001b[0m\u001b[0mdriver_command\u001b[0m\u001b[0;34m,\u001b[0m \u001b[0mparams\u001b[0m\u001b[0;34m)\u001b[0m\u001b[0;34m\u001b[0m\u001b[0;34m\u001b[0m\u001b[0m\n\u001b[1;32m    417\u001b[0m         \u001b[0;32mif\u001b[0m \u001b[0mresponse\u001b[0m\u001b[0;34m:\u001b[0m\u001b[0;34m\u001b[0m\u001b[0;34m\u001b[0m\u001b[0m\n\u001b[0;32m--> 418\u001b[0;31m             \u001b[0mself\u001b[0m\u001b[0;34m.\u001b[0m\u001b[0merror_handler\u001b[0m\u001b[0;34m.\u001b[0m\u001b[0mcheck_response\u001b[0m\u001b[0;34m(\u001b[0m\u001b[0mresponse\u001b[0m\u001b[0;34m)\u001b[0m\u001b[0;34m\u001b[0m\u001b[0;34m\u001b[0m\u001b[0m\n\u001b[0m\u001b[1;32m    419\u001b[0m             response['value'] = self._unwrap_value(\n\u001b[1;32m    420\u001b[0m                 response.get('value', None))\n",
      "\u001b[0;32m~/opt/anaconda3/lib/python3.9/site-packages/selenium/webdriver/remote/errorhandler.py\u001b[0m in \u001b[0;36mcheck_response\u001b[0;34m(self, response)\u001b[0m\n\u001b[1;32m    241\u001b[0m                 \u001b[0malert_text\u001b[0m \u001b[0;34m=\u001b[0m \u001b[0mvalue\u001b[0m\u001b[0;34m[\u001b[0m\u001b[0;34m'alert'\u001b[0m\u001b[0;34m]\u001b[0m\u001b[0;34m.\u001b[0m\u001b[0mget\u001b[0m\u001b[0;34m(\u001b[0m\u001b[0;34m'text'\u001b[0m\u001b[0;34m)\u001b[0m\u001b[0;34m\u001b[0m\u001b[0;34m\u001b[0m\u001b[0m\n\u001b[1;32m    242\u001b[0m             \u001b[0;32mraise\u001b[0m \u001b[0mexception_class\u001b[0m\u001b[0;34m(\u001b[0m\u001b[0mmessage\u001b[0m\u001b[0;34m,\u001b[0m \u001b[0mscreen\u001b[0m\u001b[0;34m,\u001b[0m \u001b[0mstacktrace\u001b[0m\u001b[0;34m,\u001b[0m \u001b[0malert_text\u001b[0m\u001b[0;34m)\u001b[0m  \u001b[0;31m# type: ignore[call-arg]  # mypy is not smart enough here\u001b[0m\u001b[0;34m\u001b[0m\u001b[0;34m\u001b[0m\u001b[0m\n\u001b[0;32m--> 243\u001b[0;31m         \u001b[0;32mraise\u001b[0m \u001b[0mexception_class\u001b[0m\u001b[0;34m(\u001b[0m\u001b[0mmessage\u001b[0m\u001b[0;34m,\u001b[0m \u001b[0mscreen\u001b[0m\u001b[0;34m,\u001b[0m \u001b[0mstacktrace\u001b[0m\u001b[0;34m)\u001b[0m\u001b[0;34m\u001b[0m\u001b[0;34m\u001b[0m\u001b[0m\n\u001b[0m\u001b[1;32m    244\u001b[0m \u001b[0;34m\u001b[0m\u001b[0m\n\u001b[1;32m    245\u001b[0m     \u001b[0;32mdef\u001b[0m \u001b[0m_value_or_default\u001b[0m\u001b[0;34m(\u001b[0m\u001b[0mself\u001b[0m\u001b[0;34m,\u001b[0m \u001b[0mobj\u001b[0m\u001b[0;34m:\u001b[0m \u001b[0mMapping\u001b[0m\u001b[0;34m[\u001b[0m\u001b[0m_KT\u001b[0m\u001b[0;34m,\u001b[0m \u001b[0m_VT\u001b[0m\u001b[0;34m]\u001b[0m\u001b[0;34m,\u001b[0m \u001b[0mkey\u001b[0m\u001b[0;34m:\u001b[0m \u001b[0m_KT\u001b[0m\u001b[0;34m,\u001b[0m \u001b[0mdefault\u001b[0m\u001b[0;34m:\u001b[0m \u001b[0m_VT\u001b[0m\u001b[0;34m)\u001b[0m \u001b[0;34m->\u001b[0m \u001b[0m_VT\u001b[0m\u001b[0;34m:\u001b[0m\u001b[0;34m\u001b[0m\u001b[0;34m\u001b[0m\u001b[0m\n",
      "\u001b[0;31mNoSuchWindowException\u001b[0m: Message: no such window: target window already closed\nfrom unknown error: web view not found\n  (Session info: chrome=106.0.5249.119)\nStacktrace:\n0   chromedriver                        0x0000000104832f44 chromedriver + 3813188\n1   chromedriver                        0x00000001047c4ae0 chromedriver + 3361504\n2   chromedriver                        0x00000001044c8c5c chromedriver + 232540\n3   chromedriver                        0x00000001044ab71c chromedriver + 112412\n4   chromedriver                        0x0000000104516ebc chromedriver + 552636\n5   chromedriver                        0x0000000104527638 chromedriver + 620088\n6   chromedriver                        0x00000001044ef358 chromedriver + 389976\n7   chromedriver                        0x00000001044f0284 chromedriver + 393860\n8   chromedriver                        0x0000000104806e18 chromedriver + 3632664\n9   chromedriver                        0x000000010480a97c chromedriver + 3647868\n10  chromedriver                        0x0000000104810b58 chromedriver + 3672920\n11  chromedriver                        0x000000010480b350 chromedriver + 3650384\n12  chromedriver                        0x00000001047e88dc chromedriver + 3508444\n13  chromedriver                        0x0000000104825914 chromedriver + 3758356\n14  chromedriver                        0x0000000104825a78 chromedriver + 3758712\n15  chromedriver                        0x00000001048396cc chromedriver + 3839692\n16  libsystem_pthread.dylib             0x00000001a556826c _pthread_start + 148\n17  libsystem_pthread.dylib             0x00000001a556308c thread_start + 8\n"
     ]
    }
   ],
   "source": [
    "for row in sample.itertuples():\n",
    "    intro = \"\"\n",
    "    about = \"\"\n",
    "    name_space = row.f_name + \" \" + row.l_name\n",
    "    name = row.f_name + row.l_name\n",
    "    \n",
    "    driver.get('https://www.google.com')\n",
    "\n",
    "    # locate search form by_name\n",
    "    search_query = driver.find_element_by_name('q')\n",
    "\n",
    "    # send_keys() to simulate the search text key strokes\n",
    "    search_query.send_keys(f'site:linkedin.com/in/ AND {name_space} AND \"University of Chicago\"')\n",
    "\n",
    "    # .send_keys() to simulate the return key \n",
    "    search_query.send_keys(Keys.RETURN)\n",
    "\n",
    "    driver.implicitly_wait(10) \n",
    "\n",
    "    try:\n",
    "        urls = driver.find_elements_by_class_name('yuRUbf')\n",
    "        urls = [url.find_element_by_css_selector('a').get_attribute('href') for url in urls]\n",
    "\n",
    "        linkedin_urls.append(urls[0])\n",
    "        url = urls[0]\n",
    "        print(url)\n",
    "        driver.get(url)\n",
    "        src = driver.page_source\n",
    "        soup = BeautifulSoup(src, 'lxml')\n",
    "\n",
    "        intro = soup.find('div', {'class': 'pv-text-details__left-panel'})\n",
    "        header = intro.find(\"div\", {'class': 'text-body-medium'})\n",
    "\n",
    "        # this gives us the HTML of the tag in which the Company Name is present\n",
    "        # Extracting the Company Name\n",
    "        if header:\n",
    "            header = header.get_text().strip()\n",
    "            print(\"headline: \" + header)\n",
    "            profile[name_space] = [header]\n",
    "        \n",
    "        about = soup.find('div', {'class': 'display-flex ph5 pv3'})\n",
    "        about = about.find(\"span\", {'aria-hidden': 'true'})\n",
    "        \n",
    "        if about:\n",
    "            about = about.get_text().strip()\n",
    "            print(\"about: \" + about)\n",
    "            profile[name_space].append(about)\n",
    "\n",
    "    except:\n",
    "        try:\n",
    "            search_query.send_keys(f'site:linkedin.com/in/ AND {name} AND \"University of Chicago\"')\n",
    "        except:\n",
    "            pass"
   ]
  },
  {
   "cell_type": "code",
   "execution_count": 8,
   "id": "9c635ca8",
   "metadata": {},
   "outputs": [
    {
     "data": {
      "text/plain": [
       "{}"
      ]
     },
     "execution_count": 8,
     "metadata": {},
     "output_type": "execute_result"
    }
   ],
   "source": [
    "profile"
   ]
  },
  {
   "cell_type": "markdown",
   "id": "a3414c2a",
   "metadata": {},
   "source": [
    "### After approximately 5-6 google searches, have to click on pictures to show I am not a bot. Currently, thinking about ways to work around the verification process.\n",
    "### possibly API"
   ]
  }
 ],
 "metadata": {
  "kernelspec": {
   "display_name": "Python 3 (ipykernel)",
   "language": "python",
   "name": "python3"
  },
  "language_info": {
   "codemirror_mode": {
    "name": "ipython",
    "version": 3
   },
   "file_extension": ".py",
   "mimetype": "text/x-python",
   "name": "python",
   "nbconvert_exporter": "python",
   "pygments_lexer": "ipython3",
   "version": "3.9.7"
  }
 },
 "nbformat": 4,
 "nbformat_minor": 5
}

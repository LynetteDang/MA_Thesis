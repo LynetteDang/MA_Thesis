{
 "cells": [
  {
   "cell_type": "markdown",
   "id": "dc23cefc",
   "metadata": {},
   "source": [
    "https://www.jcchouinard.com/linkedin-api/"
   ]
  },
  {
   "cell_type": "code",
   "execution_count": 3,
   "id": "d387ffa2",
   "metadata": {},
   "outputs": [],
   "source": [
    "import json\n",
    "import random\n",
    "import requests\n",
    "import string"
   ]
  },
  {
   "cell_type": "code",
   "execution_count": 4,
   "id": "d1235e21",
   "metadata": {},
   "outputs": [],
   "source": [
    "def read_creds(filename):\n",
    "    '''\n",
    "    Store API credentials in a safe place.\n",
    "    If you use Git, make sure to add the file to .gitignore\n",
    "    '''\n",
    "    with open(filename) as f:\n",
    "        credentials = json.load(f)\n",
    "    return credentials\n",
    " \n",
    "creds = read_creds('credentials.json')\n",
    "client_id, client_secret = creds['client_id'], creds['client_secret']\n",
    "redirect_uri = creds['redirect_uri']"
   ]
  },
  {
   "cell_type": "code",
   "execution_count": 5,
   "id": "7c79b6fd",
   "metadata": {},
   "outputs": [],
   "source": [
    "def create_CSRF_token():\n",
    "    '''\n",
    "    This function generates a random string of letters.\n",
    "    It is not required by the Linkedin API to use a CSRF token.\n",
    "    However, it is recommended to protect against cross-site request forgery\n",
    "    '''\n",
    "    letters = string.ascii_lowercase\n",
    "    token = ''.join(random.choice(letters) for i in range(20))\n",
    "    return token"
   ]
  },
  {
   "cell_type": "code",
   "execution_count": 6,
   "id": "ce4438e1",
   "metadata": {},
   "outputs": [],
   "source": [
    "api_url = 'https://www.linkedin.com/oauth/v2'\n",
    " \n",
    "def authorize(api_url,client_id,client_secret,redirect_uri):\n",
    "    '''\n",
    "    Make a HTTP request to the authorization URL.\n",
    "    It will open the authentication URL.\n",
    "    Once authorized, it'll redirect to the redirect URI given.\n",
    "    The page will look like an error. but it is not.\n",
    "    You'll need to copy the redirected URL.\n",
    "    '''\n",
    "    # Request authentication URL\n",
    "    csrf_token = create_CSRF_token()\n",
    "    params = {\n",
    "        'response_type': 'code',\n",
    "        'client_id': client_id,\n",
    "        'redirect_uri': redirect_uri,\n",
    "        'state': csrf_token,\n",
    "        'scope': 'r_liteprofile,r_emailaddress,w_member_social'\n",
    "        }\n",
    " \n",
    "    response = requests.get(f'{api_url}/authorization',params=params)\n",
    " \n",
    "    print(f'''\n",
    "    The Browser will open to ask you to authorize the credentials.\\n\n",
    "    Since we have not set up a server, you will get the error:\\n\n",
    "    This site can’t be reached. localhost refused to connect.\\n\n",
    "    This is normal.\\n\n",
    "    You need to copy the URL where you are being redirected to.\\n\n",
    "    ''')\n",
    " \n",
    "    open_url(response.url)\n",
    " \n",
    "    # Get the authorization verifier code from the callback url\n",
    "    redirect_response = input('Paste the full redirect URL here:')\n",
    "    auth_code = parse_redirect_uri(redirect_response)\n",
    "    return auth_code"
   ]
  },
  {
   "cell_type": "code",
   "execution_count": 7,
   "id": "327dcd5c",
   "metadata": {},
   "outputs": [],
   "source": [
    "def open_url(url):\n",
    "    '''\n",
    "    Function to Open URL.\n",
    "    Used to open the authorization link\n",
    "    '''\n",
    "    import webbrowser\n",
    "    print(url)\n",
    "    webbrowser.open(url)"
   ]
  },
  {
   "cell_type": "code",
   "execution_count": 8,
   "id": "2a36d2a9",
   "metadata": {},
   "outputs": [],
   "source": [
    "def parse_redirect_uri(redirect_response):\n",
    "    '''\n",
    "    Parse redirect response into components.\n",
    "    Extract the authorized token from the redirect uri.\n",
    "    '''\n",
    "    from urllib.parse import urlparse, parse_qs\n",
    " \n",
    "    url = urlparse(redirect_response)\n",
    "    url = parse_qs(url.query)\n",
    "    return url['code'][0]"
   ]
  },
  {
   "cell_type": "code",
   "execution_count": 10,
   "id": "78c5a696",
   "metadata": {},
   "outputs": [],
   "source": [
    "def save_token(filename,data):\n",
    "    '''\n",
    "    Write token to credentials file.\n",
    "    '''\n",
    "    data = json.dumps(data, indent = 4) \n",
    "    with open(filename, 'w') as f: \n",
    "        f.write(data)"
   ]
  },
  {
   "cell_type": "code",
   "execution_count": 11,
   "id": "fcb860ec",
   "metadata": {},
   "outputs": [],
   "source": [
    "def headers(access_token):\n",
    "    '''\n",
    "    Make the headers to attach to the API call.\n",
    "    '''\n",
    "    headers = {\n",
    "    'Authorization': f'Bearer {access_token}',\n",
    "    'cache-control': 'no-cache',\n",
    "    'X-Restli-Protocol-Version': '2.0.0'\n",
    "    }\n",
    "    return headers"
   ]
  },
  {
   "cell_type": "code",
   "execution_count": 12,
   "id": "422d6cb9",
   "metadata": {},
   "outputs": [],
   "source": [
    "def auth(credentials):\n",
    "    '''\n",
    "    Run the Authentication.\n",
    "    If the access token exists, it will use it to skip browser auth.\n",
    "    If not, it will open the browser for you to authenticate.\n",
    "    You will have to manually paste the redirect URI in the prompt.\n",
    "    '''\n",
    "    creds = read_creds(credentials)\n",
    "    print(creds)\n",
    "    client_id, client_secret = creds['client_id'], creds['client_secret']\n",
    "    redirect_uri = creds['redirect_uri']\n",
    "    api_url = 'https://www.linkedin.com/oauth/v2'\n",
    "         \n",
    "    if 'access_token' not in creds.keys(): \n",
    "        args = client_id,client_secret,redirect_uri\n",
    "        auth_code = authorize(api_url,*args)\n",
    "        access_token = refresh_token(auth_code,*args)\n",
    "        creds.update({'access_token':access_token})\n",
    "        save_token(credentials,creds)\n",
    "    else: \n",
    "        access_token = creds['access_token']\n",
    "    return access_token"
   ]
  },
  {
   "cell_type": "code",
   "execution_count": 23,
   "id": "6da783f1",
   "metadata": {},
   "outputs": [
    {
     "name": "stdout",
     "output_type": "stream",
     "text": [
      "{'client_id': '86d1ws60zw4nbq', 'client_secret': 'cQGF92NVmpAAunlu', 'redirect_uri': 'http://localhost:8080', 'access token': 'AQXxXpr25-WZYKmljiTjiDp133N3YbuE6OE_br0-DZWuQ1d4l_P9Vr3t_I3shGYRcIVBLfIfxuvlYZft56DjbU8hrrFDfNv7FL4TLoxsHQqoBkbsIMWM0DWcJMYli-mtChBagjjE8uBG29sXenSsH6IwhrSr4_R2_1_E5sUZdiuGdILCRtnsymSy0rN2L9qhqcCwBbMCUNm-5b779xseBfs6ewd_MraqwNp0Nx77__ss8-k9bC4bCkJKvMRFmAUHDId8gdkaovomwzEFPTkVUbPuP6SbEiVUCawlwOtO_JiK7WSkcJgRchOKfF68GQdXiWScOYr9T3NkCaT-rtqZbPJG_I0yzw', 'access_token': 'AQUhZB7rEDOdJrRW-B65iSFMgtEz4t7yXUla-VpyP0WYjzetulD7JGMVQNu1imHCkKaQN9EB2v2PeAWnvCAngzkIe9VBoXJo0VLl3Wci28MZfJI-PWSXmvr2blgrWRCLrYx5rAyoyyffZipVCvwVnUIMRcvLYAjD8ToyoYgddioTwgYyIRSrUXAtk1QFRvGff3FN7y0GpIQaWIjien7W9P8vKT46pRPsaJvWhZfab6fKDNUxFuJSynOk8CiHqsgpySgoUmHQEEedhRi3d6nLaU8KmNFkLH_AtAzcLY1nTfs_el-tp2F3VF2S65hgyez6IMCXUxURcooLEyIIQ55qXXTSx0LnVQ'}\n"
     ]
    }
   ],
   "source": [
    "credentials = 'credentials.json'\n",
    "access_token = auth(credentials)\n"
   ]
  },
  {
   "cell_type": "markdown",
   "id": "a06e375b",
   "metadata": {},
   "source": [
    "AQQuKEqjZ3QecHGwvwtw7a8uXdPRP-9VdHxbUgZgyvNZlGZWck-NEZ6kOc7uqDgNXIwS8JC93F4VXk-oyTx-RrXu2FQAyx-dsMiepXenv-Xp2tO2x8VQUArU6JGLVFaG_g2b6I9sDUIq8piUvkQSTDLAasTFCrKVi13L4s37af0XhBoXGfOyuXNfrQY1G8-BlCpclJNV1SM_k-pVsRw"
   ]
  },
  {
   "cell_type": "code",
   "execution_count": 52,
   "id": "56790572",
   "metadata": {
    "scrolled": true
   },
   "outputs": [
    {
     "name": "stdout",
     "output_type": "stream",
     "text": [
      "{'client_id': '86d1ws60zw4nbq', 'client_secret': 'cQGF92NVmpAAunlu', 'redirect_uri': 'http://localhost:8080', 'access token': 'AQXxXpr25-WZYKmljiTjiDp133N3YbuE6OE_br0-DZWuQ1d4l_P9Vr3t_I3shGYRcIVBLfIfxuvlYZft56DjbU8hrrFDfNv7FL4TLoxsHQqoBkbsIMWM0DWcJMYli-mtChBagjjE8uBG29sXenSsH6IwhrSr4_R2_1_E5sUZdiuGdILCRtnsymSy0rN2L9qhqcCwBbMCUNm-5b779xseBfs6ewd_MraqwNp0Nx77__ss8-k9bC4bCkJKvMRFmAUHDId8gdkaovomwzEFPTkVUbPuP6SbEiVUCawlwOtO_JiK7WSkcJgRchOKfF68GQdXiWScOYr9T3NkCaT-rtqZbPJG_I0yzw', 'access_token': 'AQUhZB7rEDOdJrRW-B65iSFMgtEz4t7yXUla-VpyP0WYjzetulD7JGMVQNu1imHCkKaQN9EB2v2PeAWnvCAngzkIe9VBoXJo0VLl3Wci28MZfJI-PWSXmvr2blgrWRCLrYx5rAyoyyffZipVCvwVnUIMRcvLYAjD8ToyoYgddioTwgYyIRSrUXAtk1QFRvGff3FN7y0GpIQaWIjien7W9P8vKT46pRPsaJvWhZfab6fKDNUxFuJSynOk8CiHqsgpySgoUmHQEEedhRi3d6nLaU8KmNFkLH_AtAzcLY1nTfs_el-tp2F3VF2S65hgyez6IMCXUxURcooLEyIIQ55qXXTSx0LnVQ'}\n",
      "{'serviceErrorCode': 100, 'message': 'Not enough permissions to access: GET /people/williamhgates/', 'status': 403}\n"
     ]
    }
   ],
   "source": [
    "import requests\n",
    " \n",
    "from ln_oauth import auth, headers\n",
    " \n",
    "def user_info(headers):\n",
    "    '''\n",
    "    Get user information from Linkedin\n",
    "    '''\n",
    "    response = requests.get('https://api.linkedin.com/v2/people/williamhgates/', headers = headers)\n",
    "    user_info = response.json()\n",
    "    return user_info\n",
    " \n",
    "if __name__ == '__main__':\n",
    "    credentials = 'credentials.json'\n",
    "    access_token = auth(credentials) # Authenticate the API\n",
    "    headers = headers(access_token) # Make the headers to attach to the API call.\n",
    "    user_info = user_info(headers) # Get user info\n",
    "    print(user_info)"
   ]
  },
  {
   "cell_type": "markdown",
   "id": "07d6fe6d",
   "metadata": {},
   "source": [
    "https://developer.linkedin.com/docs/fields/basic-profile"
   ]
  },
  {
   "cell_type": "markdown",
   "id": "6f3323e4",
   "metadata": {},
   "source": [
    "I managed to get my own profile, but not others. In order to scrape for other people's profile, we need to use profile API, which is restricted to those developers approved by LinkedIn and subject to applicable data restrictions in their agreements."
   ]
  },
  {
   "cell_type": "markdown",
   "id": "df683803",
   "metadata": {},
   "source": [
    "https://towardsdatascience.com/mining-data-on-linkedin-9b70681b1467"
   ]
  },
  {
   "cell_type": "code",
   "execution_count": 47,
   "id": "36ddfd3b",
   "metadata": {},
   "outputs": [],
   "source": [
    "import os\n",
    "import csv\n",
    "\n",
    "CSV_FILE = os.path.join('./', 'Connections.csv')\n",
    "\n",
    "csvReader = csv.DictReader(open(CSV_FILE), delimiter=',', quotechar='\"')\n",
    "contacts = [row for row in csvReader]"
   ]
  },
  {
   "cell_type": "code",
   "execution_count": 49,
   "id": "b9d6b972",
   "metadata": {},
   "outputs": [
    {
     "name": "stdout",
     "output_type": "stream",
     "text": [
      "There are 5 people who are working at Google.\n"
     ]
    }
   ],
   "source": [
    "workingAtGoogle = 0\n",
    "\n",
    "for contact in contacts:\n",
    "    for t in contact['Company'].split('/'):\n",
    "        if (t == 'Google'):\n",
    "            workingAtGoogle = workingAtGoogle+1\n",
    "print('There are %d people who are working at Google.' % (workingAtGoogle))"
   ]
  },
  {
   "cell_type": "markdown",
   "id": "c11d9910",
   "metadata": {},
   "source": [
    "Alternative: Make a profile on Linkedin for UChicago SSD, use selenium to get all linkedin url of the alumni, send them invites.\n",
    "\n",
    "\"Your LinkedIn data belongs to you, and you can download an archive any time or view the rich media you have uploaded.\""
   ]
  }
 ],
 "metadata": {
  "kernelspec": {
   "display_name": "Python 3",
   "language": "python",
   "name": "python3"
  },
  "language_info": {
   "codemirror_mode": {
    "name": "ipython",
    "version": 3
   },
   "file_extension": ".py",
   "mimetype": "text/x-python",
   "name": "python",
   "nbconvert_exporter": "python",
   "pygments_lexer": "ipython3",
   "version": "3.9.7"
  },
  "vscode": {
   "interpreter": {
    "hash": "66d5681e9b1a30c54e2b72bede8e639bf5aa12ed7b56d7c736beb4383827a459"
   }
  }
 },
 "nbformat": 4,
 "nbformat_minor": 5
}
